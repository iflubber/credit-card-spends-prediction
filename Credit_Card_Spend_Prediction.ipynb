{
 "cells": [
  {
   "cell_type": "markdown",
   "metadata": {},
   "source": [
    "# Credit Card Spend Prediction"
   ]
  },
  {
   "cell_type": "code",
   "execution_count": 121,
   "metadata": {},
   "outputs": [],
   "source": [
    "import pandas as pd\n",
    "from pandas import Series\n",
    "import numpy as np\n",
    "import matplotlib.pyplot as plt\n",
    "%matplotlib inline\n",
    "plt.rc(\"font\", size=14)\n",
    "import seaborn as sns\n",
    "sns.set(style=\"white\")\n",
    "sns.set(style=\"whitegrid\", color_codes=True)\n",
    "from scipy import stats\n",
    "from sklearn import preprocessing\n",
    "from sklearn.model_selection import train_test_split\n",
    "from sklearn.preprocessing import StandardScaler\n",
    "from sklearn.linear_model import LinearRegression, Lasso, Ridge\n",
    "from sklearn.metrics import mean_absolute_error, mean_squared_error"
   ]
  },
  {
   "cell_type": "code",
   "execution_count": 51,
   "metadata": {},
   "outputs": [
    {
     "name": "stderr",
     "output_type": "stream",
     "text": [
      "/Users/kanuamit/anaconda3/lib/python3.6/site-packages/IPython/core/interactiveshell.py:2728: DtypeWarning: Columns (2,19,21,49,87,88,102) have mixed types. Specify dtype option on import or set low_memory=False.\n",
      "  interactivity=interactivity, compiler=compiler, result=result)\n"
     ]
    }
   ],
   "source": [
    "cc_users_data = pd.read_csv('CREDIT CARD USERS DATA.csv')"
   ]
  },
  {
   "cell_type": "code",
   "execution_count": 3,
   "metadata": {},
   "outputs": [
    {
     "data": {
      "text/plain": [
       "(5000, 132)"
      ]
     },
     "execution_count": 3,
     "metadata": {},
     "output_type": "execute_result"
    }
   ],
   "source": [
    "cc_users_data.shape"
   ]
  },
  {
   "cell_type": "code",
   "execution_count": 5,
   "metadata": {},
   "outputs": [
    {
     "data": {
      "text/html": [
       "<div>\n",
       "<style scoped>\n",
       "    .dataframe tbody tr th:only-of-type {\n",
       "        vertical-align: middle;\n",
       "    }\n",
       "\n",
       "    .dataframe tbody tr th {\n",
       "        vertical-align: top;\n",
       "    }\n",
       "\n",
       "    .dataframe thead th {\n",
       "        text-align: right;\n",
       "    }\n",
       "</style>\n",
       "<table border=\"1\" class=\"dataframe\">\n",
       "  <thead>\n",
       "    <tr style=\"text-align: right;\">\n",
       "      <th></th>\n",
       "      <th>custid</th>\n",
       "      <th>region</th>\n",
       "      <th>townsize</th>\n",
       "      <th>gender</th>\n",
       "      <th>age</th>\n",
       "      <th>agecat</th>\n",
       "      <th>birthmonth</th>\n",
       "      <th>ed</th>\n",
       "      <th>edcat</th>\n",
       "      <th>jobcat</th>\n",
       "      <th>...</th>\n",
       "      <th>owncd</th>\n",
       "      <th>ownpda</th>\n",
       "      <th>ownpc</th>\n",
       "      <th>ownipod</th>\n",
       "      <th>owngame</th>\n",
       "      <th>ownfax</th>\n",
       "      <th>news</th>\n",
       "      <th>response_01</th>\n",
       "      <th>response_02</th>\n",
       "      <th>response_03</th>\n",
       "    </tr>\n",
       "  </thead>\n",
       "  <tbody>\n",
       "    <tr>\n",
       "      <th>0</th>\n",
       "      <td>3964-QJWTRG-NPN</td>\n",
       "      <td>1.0</td>\n",
       "      <td>2.00</td>\n",
       "      <td>1.0</td>\n",
       "      <td>20.0</td>\n",
       "      <td>2.0</td>\n",
       "      <td>September</td>\n",
       "      <td>15.0</td>\n",
       "      <td>3.0</td>\n",
       "      <td>1.0</td>\n",
       "      <td>...</td>\n",
       "      <td>0.0</td>\n",
       "      <td>0.0</td>\n",
       "      <td>0.0</td>\n",
       "      <td>1.0</td>\n",
       "      <td>1.0</td>\n",
       "      <td>0.0</td>\n",
       "      <td>0.0</td>\n",
       "      <td>0.0</td>\n",
       "      <td>1.0</td>\n",
       "      <td>0.0</td>\n",
       "    </tr>\n",
       "    <tr>\n",
       "      <th>1</th>\n",
       "      <td>0648-AIPJSP-UVM</td>\n",
       "      <td>5.0</td>\n",
       "      <td>5.00</td>\n",
       "      <td>0.0</td>\n",
       "      <td>22.0</td>\n",
       "      <td>2.0</td>\n",
       "      <td>May</td>\n",
       "      <td>17.0</td>\n",
       "      <td>4.0</td>\n",
       "      <td>2.0</td>\n",
       "      <td>...</td>\n",
       "      <td>1.0</td>\n",
       "      <td>1.0</td>\n",
       "      <td>1.0</td>\n",
       "      <td>1.0</td>\n",
       "      <td>1.0</td>\n",
       "      <td>1.0</td>\n",
       "      <td>1.0</td>\n",
       "      <td>0.0</td>\n",
       "      <td>0.0</td>\n",
       "      <td>0.0</td>\n",
       "    </tr>\n",
       "    <tr>\n",
       "      <th>2</th>\n",
       "      <td>5195-TLUDJE-HVO</td>\n",
       "      <td>3.0</td>\n",
       "      <td>4.00</td>\n",
       "      <td>1.0</td>\n",
       "      <td>67.0</td>\n",
       "      <td>6.0</td>\n",
       "      <td>June</td>\n",
       "      <td>14.0</td>\n",
       "      <td>2.0</td>\n",
       "      <td>2.0</td>\n",
       "      <td>...</td>\n",
       "      <td>1.0</td>\n",
       "      <td>0.0</td>\n",
       "      <td>0.0</td>\n",
       "      <td>0.0</td>\n",
       "      <td>0.0</td>\n",
       "      <td>0.0</td>\n",
       "      <td>1.0</td>\n",
       "      <td>0.0</td>\n",
       "      <td>0.0</td>\n",
       "      <td>0.0</td>\n",
       "    </tr>\n",
       "    <tr>\n",
       "      <th>3</th>\n",
       "      <td>4459-VLPQUH-3OL</td>\n",
       "      <td>4.0</td>\n",
       "      <td>3.00</td>\n",
       "      <td>0.0</td>\n",
       "      <td>23.0</td>\n",
       "      <td>2.0</td>\n",
       "      <td>May</td>\n",
       "      <td>16.0</td>\n",
       "      <td>3.0</td>\n",
       "      <td>2.0</td>\n",
       "      <td>...</td>\n",
       "      <td>1.0</td>\n",
       "      <td>0.0</td>\n",
       "      <td>1.0</td>\n",
       "      <td>1.0</td>\n",
       "      <td>1.0</td>\n",
       "      <td>0.0</td>\n",
       "      <td>1.0</td>\n",
       "      <td>1.0</td>\n",
       "      <td>0.0</td>\n",
       "      <td>0.0</td>\n",
       "    </tr>\n",
       "    <tr>\n",
       "      <th>4</th>\n",
       "      <td>8158-SMTQFB-CNO</td>\n",
       "      <td>2.0</td>\n",
       "      <td>2.00</td>\n",
       "      <td>0.0</td>\n",
       "      <td>26.0</td>\n",
       "      <td>3.0</td>\n",
       "      <td>July</td>\n",
       "      <td>16.0</td>\n",
       "      <td>3.0</td>\n",
       "      <td>2.0</td>\n",
       "      <td>...</td>\n",
       "      <td>1.0</td>\n",
       "      <td>0.0</td>\n",
       "      <td>1.0</td>\n",
       "      <td>0.0</td>\n",
       "      <td>1.0</td>\n",
       "      <td>0.0</td>\n",
       "      <td>0.0</td>\n",
       "      <td>0.0</td>\n",
       "      <td>1.0</td>\n",
       "      <td>0.0</td>\n",
       "    </tr>\n",
       "  </tbody>\n",
       "</table>\n",
       "<p>5 rows × 132 columns</p>\n",
       "</div>"
      ],
      "text/plain": [
       "            custid  region townsize  gender   age  agecat birthmonth    ed  \\\n",
       "0  3964-QJWTRG-NPN     1.0     2.00     1.0  20.0     2.0  September  15.0   \n",
       "1  0648-AIPJSP-UVM     5.0     5.00     0.0  22.0     2.0        May  17.0   \n",
       "2  5195-TLUDJE-HVO     3.0     4.00     1.0  67.0     6.0       June  14.0   \n",
       "3  4459-VLPQUH-3OL     4.0     3.00     0.0  23.0     2.0        May  16.0   \n",
       "4  8158-SMTQFB-CNO     2.0     2.00     0.0  26.0     3.0       July  16.0   \n",
       "\n",
       "   edcat  jobcat     ...      owncd  ownpda  ownpc  ownipod  owngame  ownfax  \\\n",
       "0    3.0     1.0     ...        0.0     0.0    0.0      1.0      1.0     0.0   \n",
       "1    4.0     2.0     ...        1.0     1.0    1.0      1.0      1.0     1.0   \n",
       "2    2.0     2.0     ...        1.0     0.0    0.0      0.0      0.0     0.0   \n",
       "3    3.0     2.0     ...        1.0     0.0    1.0      1.0      1.0     0.0   \n",
       "4    3.0     2.0     ...        1.0     0.0    1.0      0.0      1.0     0.0   \n",
       "\n",
       "   news  response_01  response_02 response_03  \n",
       "0   0.0          0.0          1.0         0.0  \n",
       "1   1.0          0.0          0.0         0.0  \n",
       "2   1.0          0.0          0.0         0.0  \n",
       "3   1.0          1.0          0.0         0.0  \n",
       "4   0.0          0.0          1.0         0.0  \n",
       "\n",
       "[5 rows x 132 columns]"
      ]
     },
     "execution_count": 5,
     "metadata": {},
     "output_type": "execute_result"
    }
   ],
   "source": [
    "cc_users_data.head()"
   ]
  },
  {
   "cell_type": "code",
   "execution_count": 6,
   "metadata": {},
   "outputs": [
    {
     "data": {
      "text/plain": [
       "Index(['custid', 'region', 'townsize', 'gender', 'age', 'agecat', 'birthmonth',\n",
       "       'ed', 'edcat', 'jobcat',\n",
       "       ...\n",
       "       'owncd', 'ownpda', 'ownpc', 'ownipod', 'owngame', 'ownfax', 'news',\n",
       "       'response_01', 'response_02', 'response_03'],\n",
       "      dtype='object', length=132)"
      ]
     },
     "execution_count": 6,
     "metadata": {},
     "output_type": "execute_result"
    }
   ],
   "source": [
    "cc_users_data.columns"
   ]
  },
  {
   "cell_type": "code",
   "execution_count": 15,
   "metadata": {
    "scrolled": true
   },
   "outputs": [
    {
     "name": "stdout",
     "output_type": "stream",
     "text": [
      "<class 'pandas.core.frame.DataFrame'>\n",
      "RangeIndex: 5000 entries, 0 to 4999\n",
      "Data columns (total 131 columns):\n",
      "custid               object\n",
      "region               float64\n",
      "townsize             object\n",
      "gender               float64\n",
      "age                  float64\n",
      "agecat               float64\n",
      "birthmonth           object\n",
      "ed                   float64\n",
      "edcat                float64\n",
      "jobcat               float64\n",
      "union                float64\n",
      "employ               float64\n",
      "empcat               float64\n",
      "retire               float64\n",
      "income               float64\n",
      "lninc                float64\n",
      "inccat               float64\n",
      "debtinc              float64\n",
      "creddebt             float64\n",
      "lncreddebt           object\n",
      "othdebt              float64\n",
      "lnothdebt            object\n",
      "default              float64\n",
      "jobsat               float64\n",
      "marital              float64\n",
      "spoused              float64\n",
      "spousedcat           float64\n",
      "reside               float64\n",
      "pets                 float64\n",
      "pets_cats            float64\n",
      "pets_dogs            float64\n",
      "pets_birds           float64\n",
      "pets_reptiles        float64\n",
      "pets_small           float64\n",
      "pets_saltfish        float64\n",
      "pets_freshfish       float64\n",
      "homeown              float64\n",
      "hometype             float64\n",
      "address              float64\n",
      "addresscat           float64\n",
      "cars                 float64\n",
      "carown               float64\n",
      "cartype              float64\n",
      "carvalue             float64\n",
      "carcatvalue          float64\n",
      "carbought            float64\n",
      "carbuy               float64\n",
      "commute              float64\n",
      "commutecat           float64\n",
      "commutetime          object\n",
      "commutecar           float64\n",
      "commutemotorcycle    float64\n",
      "commutecarpool       float64\n",
      "commutebus           float64\n",
      "commuterail          float64\n",
      "commutepublic        float64\n",
      "commutebike          float64\n",
      "commutewalk          float64\n",
      "commutenonmotor      float64\n",
      "telecommute          float64\n",
      "reason               float64\n",
      "polview              float64\n",
      "polparty             float64\n",
      "polcontrib           float64\n",
      "vote                 float64\n",
      "card                 float64\n",
      "cardtype             float64\n",
      "cardbenefit          float64\n",
      "cardfee              float64\n",
      "cardtenure           float64\n",
      "cardtenurecat        float64\n",
      "card2                float64\n",
      "card2type            float64\n",
      "card2benefit         float64\n",
      "card2fee             float64\n",
      "card2tenure          float64\n",
      "card2tenurecat       float64\n",
      "carditems            float64\n",
      "card2items           float64\n",
      "active               float64\n",
      "bfast                float64\n",
      "tenure               float64\n",
      "churn                float64\n",
      "longmon              float64\n",
      "lnlongmon            float64\n",
      "longten              object\n",
      "lnlongten            object\n",
      "tollfree             float64\n",
      "tollmon              float64\n",
      "lntollmon            object\n",
      "tollten              float64\n",
      "lntollten            object\n",
      "equip                float64\n",
      "equipmon             float64\n",
      "lnequipmon           object\n",
      "equipten             float64\n",
      "lnequipten           object\n",
      "callcard             float64\n",
      "cardmon              float64\n",
      "lncardmon            object\n",
      "cardten              object\n",
      "lncardten            object\n",
      "wireless             float64\n",
      "wiremon              float64\n",
      "lnwiremon            object\n",
      "wireten              float64\n",
      "lnwireten            object\n",
      "multline             float64\n",
      "voice                float64\n",
      "pager                float64\n",
      "internet             float64\n",
      "callid               float64\n",
      "callwait             float64\n",
      "forward              float64\n",
      "confer               float64\n",
      "ebill                float64\n",
      "owntv                float64\n",
      "hourstv              float64\n",
      "ownvcr               float64\n",
      "owndvd               float64\n",
      "owncd                float64\n",
      "ownpda               float64\n",
      "ownpc                float64\n",
      "ownipod              float64\n",
      "owngame              float64\n",
      "ownfax               float64\n",
      "news                 float64\n",
      "response_01          float64\n",
      "response_02          float64\n",
      "response_03          float64\n",
      "Credit_Card_Spend    float64\n",
      "dtypes: float64(114), object(17)\n",
      "memory usage: 5.0+ MB\n"
     ]
    }
   ],
   "source": [
    "cc_users_data.info(verbose=True)"
   ]
  },
  {
   "cell_type": "markdown",
   "metadata": {},
   "source": [
    "## Data Cleaning"
   ]
  },
  {
   "cell_type": "markdown",
   "metadata": {},
   "source": [
    "### We can see there are some numerical columns incorrectly marked as type object"
   ]
  },
  {
   "cell_type": "code",
   "execution_count": 19,
   "metadata": {},
   "outputs": [
    {
     "data": {
      "text/plain": [
       "0    #NULL!\n",
       "1      7.43\n",
       "2    #NULL!\n",
       "3    #NULL!\n",
       "4      6.02\n",
       "Name: lnwireten, dtype: object"
      ]
     },
     "execution_count": 19,
     "metadata": {},
     "output_type": "execute_result"
    }
   ],
   "source": [
    "cc_users_data['lnwireten'].head() # because of #NULL! values"
   ]
  },
  {
   "cell_type": "code",
   "execution_count": 52,
   "metadata": {},
   "outputs": [
    {
     "data": {
      "text/plain": [
       "0"
      ]
     },
     "execution_count": 52,
     "metadata": {},
     "output_type": "execute_result"
    }
   ],
   "source": [
    "# check for missing values\n",
    "cc_users_data.isnull().any().sum() # There are missing values but not NaN"
   ]
  },
  {
   "cell_type": "code",
   "execution_count": 53,
   "metadata": {},
   "outputs": [
    {
     "name": "stderr",
     "output_type": "stream",
     "text": [
      "/Users/kanuamit/anaconda3/lib/python3.6/site-packages/ipykernel_launcher.py:3: SettingWithCopyWarning: \n",
      "A value is trying to be set on a copy of a slice from a DataFrame\n",
      "\n",
      "See the caveats in the documentation: http://pandas.pydata.org/pandas-docs/stable/indexing.html#indexing-view-versus-copy\n",
      "  This is separate from the ipykernel package so we can avoid doing imports until\n"
     ]
    }
   ],
   "source": [
    "# Correct the type of the numerical features\n",
    "# If #NULL! mark as NA\n",
    "cc_users_data.townsize[cc_users_data.townsize == '#NULL!'] = np.nan\n",
    "cc_users_data.townsize = cc_users_data.townsize.astype(float)"
   ]
  },
  {
   "cell_type": "code",
   "execution_count": 54,
   "metadata": {},
   "outputs": [
    {
     "name": "stderr",
     "output_type": "stream",
     "text": [
      "/Users/kanuamit/anaconda3/lib/python3.6/site-packages/ipykernel_launcher.py:3: SettingWithCopyWarning: \n",
      "A value is trying to be set on a copy of a slice from a DataFrame\n",
      "\n",
      "See the caveats in the documentation: http://pandas.pydata.org/pandas-docs/stable/indexing.html#indexing-view-versus-copy\n",
      "  This is separate from the ipykernel package so we can avoid doing imports until\n"
     ]
    }
   ],
   "source": [
    "# Correct the type of the numerical features\n",
    "# If #NULL! mark as NA\n",
    "cc_users_data.lncreddebt[cc_users_data.lncreddebt == '#NULL!'] = np.nan\n",
    "cc_users_data.lncreddebt = cc_users_data.lncreddebt.astype(float)"
   ]
  },
  {
   "cell_type": "code",
   "execution_count": 55,
   "metadata": {},
   "outputs": [
    {
     "name": "stderr",
     "output_type": "stream",
     "text": [
      "/Users/kanuamit/anaconda3/lib/python3.6/site-packages/ipykernel_launcher.py:3: SettingWithCopyWarning: \n",
      "A value is trying to be set on a copy of a slice from a DataFrame\n",
      "\n",
      "See the caveats in the documentation: http://pandas.pydata.org/pandas-docs/stable/indexing.html#indexing-view-versus-copy\n",
      "  This is separate from the ipykernel package so we can avoid doing imports until\n"
     ]
    }
   ],
   "source": [
    "# Correct the type of the numerical features\n",
    "# If #NULL! mark as NA\n",
    "cc_users_data.lnothdebt[cc_users_data.lnothdebt == '#NULL!'] = np.nan\n",
    "cc_users_data.lnothdebt = cc_users_data.lnothdebt.astype(float)"
   ]
  },
  {
   "cell_type": "code",
   "execution_count": 56,
   "metadata": {},
   "outputs": [
    {
     "name": "stderr",
     "output_type": "stream",
     "text": [
      "/Users/kanuamit/anaconda3/lib/python3.6/site-packages/ipykernel_launcher.py:3: SettingWithCopyWarning: \n",
      "A value is trying to be set on a copy of a slice from a DataFrame\n",
      "\n",
      "See the caveats in the documentation: http://pandas.pydata.org/pandas-docs/stable/indexing.html#indexing-view-versus-copy\n",
      "  This is separate from the ipykernel package so we can avoid doing imports until\n"
     ]
    }
   ],
   "source": [
    "# Correct the type of the numerical features\n",
    "# If #NULL! mark as NA\n",
    "cc_users_data.commutetime[cc_users_data.commutetime == '#NULL!'] = np.nan\n",
    "cc_users_data.commutetime = cc_users_data.commutetime.astype(float)"
   ]
  },
  {
   "cell_type": "code",
   "execution_count": 57,
   "metadata": {},
   "outputs": [
    {
     "name": "stderr",
     "output_type": "stream",
     "text": [
      "/Users/kanuamit/anaconda3/lib/python3.6/site-packages/ipykernel_launcher.py:3: SettingWithCopyWarning: \n",
      "A value is trying to be set on a copy of a slice from a DataFrame\n",
      "\n",
      "See the caveats in the documentation: http://pandas.pydata.org/pandas-docs/stable/indexing.html#indexing-view-versus-copy\n",
      "  This is separate from the ipykernel package so we can avoid doing imports until\n"
     ]
    }
   ],
   "source": [
    "# Correct the type of the numerical features\n",
    "# If #NULL! mark as NA\n",
    "cc_users_data.longten[cc_users_data.longten == '#NULL!'] = np.nan\n",
    "cc_users_data.longten = cc_users_data.longten.astype(float)"
   ]
  },
  {
   "cell_type": "code",
   "execution_count": 58,
   "metadata": {},
   "outputs": [
    {
     "name": "stderr",
     "output_type": "stream",
     "text": [
      "/Users/kanuamit/anaconda3/lib/python3.6/site-packages/ipykernel_launcher.py:3: SettingWithCopyWarning: \n",
      "A value is trying to be set on a copy of a slice from a DataFrame\n",
      "\n",
      "See the caveats in the documentation: http://pandas.pydata.org/pandas-docs/stable/indexing.html#indexing-view-versus-copy\n",
      "  This is separate from the ipykernel package so we can avoid doing imports until\n"
     ]
    }
   ],
   "source": [
    "# Correct the type of the numerical features\n",
    "# If #NULL! mark as NA\n",
    "cc_users_data.lnlongten[cc_users_data.lnlongten == '#NULL!'] = np.nan\n",
    "cc_users_data.lnlongten = cc_users_data.lnlongten.astype(float)"
   ]
  },
  {
   "cell_type": "code",
   "execution_count": 59,
   "metadata": {},
   "outputs": [
    {
     "name": "stderr",
     "output_type": "stream",
     "text": [
      "/Users/kanuamit/anaconda3/lib/python3.6/site-packages/ipykernel_launcher.py:3: SettingWithCopyWarning: \n",
      "A value is trying to be set on a copy of a slice from a DataFrame\n",
      "\n",
      "See the caveats in the documentation: http://pandas.pydata.org/pandas-docs/stable/indexing.html#indexing-view-versus-copy\n",
      "  This is separate from the ipykernel package so we can avoid doing imports until\n"
     ]
    }
   ],
   "source": [
    "# Correct the type of the numerical features\n",
    "# If #NULL! mark as NA\n",
    "cc_users_data.lntollmon[cc_users_data.lntollmon == '#NULL!'] = np.nan\n",
    "cc_users_data.lntollmon = cc_users_data.lntollmon.astype(float)"
   ]
  },
  {
   "cell_type": "code",
   "execution_count": 60,
   "metadata": {},
   "outputs": [
    {
     "name": "stderr",
     "output_type": "stream",
     "text": [
      "/Users/kanuamit/anaconda3/lib/python3.6/site-packages/ipykernel_launcher.py:3: SettingWithCopyWarning: \n",
      "A value is trying to be set on a copy of a slice from a DataFrame\n",
      "\n",
      "See the caveats in the documentation: http://pandas.pydata.org/pandas-docs/stable/indexing.html#indexing-view-versus-copy\n",
      "  This is separate from the ipykernel package so we can avoid doing imports until\n"
     ]
    }
   ],
   "source": [
    "# Correct the type of the numerical features\n",
    "# If #NULL! mark as NA\n",
    "cc_users_data.lntollten[cc_users_data.lntollten == '#NULL!'] = np.nan\n",
    "cc_users_data.lntollten = cc_users_data.lntollten.astype(float)"
   ]
  },
  {
   "cell_type": "code",
   "execution_count": 61,
   "metadata": {},
   "outputs": [
    {
     "name": "stderr",
     "output_type": "stream",
     "text": [
      "/Users/kanuamit/anaconda3/lib/python3.6/site-packages/ipykernel_launcher.py:3: SettingWithCopyWarning: \n",
      "A value is trying to be set on a copy of a slice from a DataFrame\n",
      "\n",
      "See the caveats in the documentation: http://pandas.pydata.org/pandas-docs/stable/indexing.html#indexing-view-versus-copy\n",
      "  This is separate from the ipykernel package so we can avoid doing imports until\n"
     ]
    }
   ],
   "source": [
    "# Correct the type of the numerical features\n",
    "# If #NULL! mark as NA\n",
    "cc_users_data.lnequipmon[cc_users_data.lnequipmon == '#NULL!'] = np.nan\n",
    "cc_users_data.lnequipmon = cc_users_data.lnequipmon.astype(float)"
   ]
  },
  {
   "cell_type": "code",
   "execution_count": 62,
   "metadata": {},
   "outputs": [
    {
     "name": "stderr",
     "output_type": "stream",
     "text": [
      "/Users/kanuamit/anaconda3/lib/python3.6/site-packages/ipykernel_launcher.py:3: SettingWithCopyWarning: \n",
      "A value is trying to be set on a copy of a slice from a DataFrame\n",
      "\n",
      "See the caveats in the documentation: http://pandas.pydata.org/pandas-docs/stable/indexing.html#indexing-view-versus-copy\n",
      "  This is separate from the ipykernel package so we can avoid doing imports until\n"
     ]
    }
   ],
   "source": [
    "# Correct the type of the numerical features\n",
    "# If #NULL! mark as NA\n",
    "cc_users_data.lnequipten[cc_users_data.lnequipten == '#NULL!'] = np.nan\n",
    "cc_users_data.lnequipten = cc_users_data.lnequipten.astype(float)"
   ]
  },
  {
   "cell_type": "code",
   "execution_count": 63,
   "metadata": {},
   "outputs": [
    {
     "name": "stderr",
     "output_type": "stream",
     "text": [
      "/Users/kanuamit/anaconda3/lib/python3.6/site-packages/ipykernel_launcher.py:3: SettingWithCopyWarning: \n",
      "A value is trying to be set on a copy of a slice from a DataFrame\n",
      "\n",
      "See the caveats in the documentation: http://pandas.pydata.org/pandas-docs/stable/indexing.html#indexing-view-versus-copy\n",
      "  This is separate from the ipykernel package so we can avoid doing imports until\n"
     ]
    }
   ],
   "source": [
    "# Correct the type of the numerical features\n",
    "# If #NULL! mark as NA\n",
    "cc_users_data.lncardmon[cc_users_data.lncardmon == '#NULL!'] = np.nan\n",
    "cc_users_data.lncardmon = cc_users_data.lncardmon.astype(float)"
   ]
  },
  {
   "cell_type": "code",
   "execution_count": 64,
   "metadata": {},
   "outputs": [
    {
     "name": "stderr",
     "output_type": "stream",
     "text": [
      "/Users/kanuamit/anaconda3/lib/python3.6/site-packages/ipykernel_launcher.py:3: SettingWithCopyWarning: \n",
      "A value is trying to be set on a copy of a slice from a DataFrame\n",
      "\n",
      "See the caveats in the documentation: http://pandas.pydata.org/pandas-docs/stable/indexing.html#indexing-view-versus-copy\n",
      "  This is separate from the ipykernel package so we can avoid doing imports until\n"
     ]
    }
   ],
   "source": [
    "# Correct the type of the numerical features\n",
    "# If #NULL! mark as NA\n",
    "cc_users_data.cardten[cc_users_data.cardten == '#NULL!'] = np.nan\n",
    "cc_users_data.cardten = cc_users_data.cardten.astype(float)"
   ]
  },
  {
   "cell_type": "code",
   "execution_count": 65,
   "metadata": {},
   "outputs": [
    {
     "name": "stderr",
     "output_type": "stream",
     "text": [
      "/Users/kanuamit/anaconda3/lib/python3.6/site-packages/ipykernel_launcher.py:3: SettingWithCopyWarning: \n",
      "A value is trying to be set on a copy of a slice from a DataFrame\n",
      "\n",
      "See the caveats in the documentation: http://pandas.pydata.org/pandas-docs/stable/indexing.html#indexing-view-versus-copy\n",
      "  This is separate from the ipykernel package so we can avoid doing imports until\n"
     ]
    }
   ],
   "source": [
    "# Correct the type of the numerical features\n",
    "# If #NULL! mark as NA\n",
    "cc_users_data.lncardten[cc_users_data.lncardten == '#NULL!'] = np.nan\n",
    "cc_users_data.lncardten = cc_users_data.lncardten.astype(float)"
   ]
  },
  {
   "cell_type": "code",
   "execution_count": 66,
   "metadata": {},
   "outputs": [
    {
     "name": "stderr",
     "output_type": "stream",
     "text": [
      "/Users/kanuamit/anaconda3/lib/python3.6/site-packages/ipykernel_launcher.py:3: SettingWithCopyWarning: \n",
      "A value is trying to be set on a copy of a slice from a DataFrame\n",
      "\n",
      "See the caveats in the documentation: http://pandas.pydata.org/pandas-docs/stable/indexing.html#indexing-view-versus-copy\n",
      "  This is separate from the ipykernel package so we can avoid doing imports until\n"
     ]
    }
   ],
   "source": [
    "# Correct the type of the numerical features\n",
    "# If #NULL! mark as NA\n",
    "cc_users_data.lnwiremon[cc_users_data.lnwiremon == '#NULL!'] = np.nan\n",
    "cc_users_data.lnwiremon = cc_users_data.lnwiremon.astype(float)"
   ]
  },
  {
   "cell_type": "code",
   "execution_count": 67,
   "metadata": {},
   "outputs": [
    {
     "name": "stderr",
     "output_type": "stream",
     "text": [
      "/Users/kanuamit/anaconda3/lib/python3.6/site-packages/ipykernel_launcher.py:3: SettingWithCopyWarning: \n",
      "A value is trying to be set on a copy of a slice from a DataFrame\n",
      "\n",
      "See the caveats in the documentation: http://pandas.pydata.org/pandas-docs/stable/indexing.html#indexing-view-versus-copy\n",
      "  This is separate from the ipykernel package so we can avoid doing imports until\n"
     ]
    }
   ],
   "source": [
    "# Correct the type of the numerical features\n",
    "# If #NULL! mark as NA\n",
    "cc_users_data.lnwireten[cc_users_data.lnwireten == '#NULL!'] = np.nan\n",
    "cc_users_data.lnwireten = cc_users_data.lnwireten.astype(float)"
   ]
  },
  {
   "cell_type": "code",
   "execution_count": 68,
   "metadata": {},
   "outputs": [
    {
     "data": {
      "text/plain": [
       "15"
      ]
     },
     "execution_count": 68,
     "metadata": {},
     "output_type": "execute_result"
    }
   ],
   "source": [
    "# check for missing values again\n",
    "cc_users_data.isnull().any().sum() # There are missing values"
   ]
  },
  {
   "cell_type": "code",
   "execution_count": 69,
   "metadata": {
    "scrolled": true
   },
   "outputs": [
    {
     "data": {
      "text/plain": [
       "custid            0\n",
       "region            0\n",
       "townsize          2\n",
       "gender            0\n",
       "age               0\n",
       "agecat            0\n",
       "birthmonth        0\n",
       "ed                0\n",
       "edcat             0\n",
       "jobcat            0\n",
       "union             0\n",
       "employ            0\n",
       "empcat            0\n",
       "retire            0\n",
       "income            0\n",
       "lninc             0\n",
       "inccat            0\n",
       "debtinc           0\n",
       "creddebt          0\n",
       "lncreddebt        1\n",
       "othdebt           0\n",
       "lnothdebt         1\n",
       "default           0\n",
       "jobsat            0\n",
       "marital           0\n",
       "spoused           0\n",
       "spousedcat        0\n",
       "reside            0\n",
       "pets              0\n",
       "pets_cats         0\n",
       "               ... \n",
       "cardten           2\n",
       "lncardten      1422\n",
       "wireless          0\n",
       "wiremon           0\n",
       "lnwiremon      3656\n",
       "wireten           0\n",
       "lnwireten      3656\n",
       "multline          0\n",
       "voice             0\n",
       "pager             0\n",
       "internet          0\n",
       "callid            0\n",
       "callwait          0\n",
       "forward           0\n",
       "confer            0\n",
       "ebill             0\n",
       "owntv             0\n",
       "hourstv           0\n",
       "ownvcr            0\n",
       "owndvd            0\n",
       "owncd             0\n",
       "ownpda            0\n",
       "ownpc             0\n",
       "ownipod           0\n",
       "owngame           0\n",
       "ownfax            0\n",
       "news              0\n",
       "response_01       0\n",
       "response_02       0\n",
       "response_03       0\n",
       "Length: 132, dtype: int64"
      ]
     },
     "execution_count": 69,
     "metadata": {},
     "output_type": "execute_result"
    }
   ],
   "source": [
    "cc_users_data.isnull().sum()"
   ]
  },
  {
   "cell_type": "code",
   "execution_count": 70,
   "metadata": {},
   "outputs": [],
   "source": [
    "# Handle missing values\n",
    "cc_users_data.fillna(cc_users_data.median(), inplace=True)"
   ]
  },
  {
   "attachments": {},
   "cell_type": "markdown",
   "metadata": {},
   "source": [
    "### Primary Response Variables\n",
    "1. cardspent\tAmount spent on primary card last month\n",
    "2. card2spent\tAmount spent on secondary card last month"
   ]
  },
  {
   "cell_type": "code",
   "execution_count": 83,
   "metadata": {},
   "outputs": [],
   "source": [
    "cc_users_data['Credit_Card_Spend'] = cc_users_data['cardspent'] + cc_users_data['card2spent']\n",
    "# cardspent & card2spent can be dropped now as they will be highly correlated with Credit_Card_Spend\n",
    "cc_users_data.drop(['cardspent','card2spent'],axis=1,inplace=True)"
   ]
  },
  {
   "cell_type": "code",
   "execution_count": 84,
   "metadata": {},
   "outputs": [
    {
     "data": {
      "text/plain": [
       "count    5000.00000\n",
       "mean      498.07863\n",
       "std       351.52927\n",
       "min         8.11000\n",
       "25%       276.28250\n",
       "50%       414.25000\n",
       "75%       615.56250\n",
       "max      4881.05000\n",
       "Name: Credit_Card_Spend, dtype: float64"
      ]
     },
     "execution_count": 84,
     "metadata": {},
     "output_type": "execute_result"
    }
   ],
   "source": [
    "cc_users_data['Credit_Card_Spend'].describe()"
   ]
  },
  {
   "cell_type": "markdown",
   "metadata": {},
   "source": [
    "### Handling Categorical Variables"
   ]
  },
  {
   "cell_type": "code",
   "execution_count": 213,
   "metadata": {},
   "outputs": [],
   "source": [
    "# Separating the categorical variables\n",
    "cat_columns = ['region','townsize','gender','agecat','birthmonth','edcat','jobcat','union','employ','empcat',\n",
    "              'retire','inccat','default','jobsat','marital','spousedcat','homeown','hometype','address',\n",
    "              'addresscat','cars','carown','cartype','carcatvalue','carbought','carbuy','commute','commutecat',\n",
    "              'commutecar','commutemotorcycle','commutecarpool','commutebus','commuterail','commutepublic',\n",
    "              'commutebike','commutewalk','commutenonmotor','telecommute','reason','polview','polparty',\n",
    "              'polcontrib','vote','card','cardtype','cardbenefit','cardfee','cardtenure','cardtenurecat',\n",
    "              'card2','card2type','card2benefit','card2fee','card2tenure','card2tenurecat','active','bfast',\n",
    "              'churn','tollfree','equip','callcard','wireless','multline','voice','pager','internet','callid',\n",
    "              'callwait','forward','confer','ebill','owntv','ownvcr','owndvd','owncd','ownpda','ownpc','ownipod',\n",
    "              'owngame','ownfax','news','response_01','response_02','response_03']"
   ]
  },
  {
   "cell_type": "code",
   "execution_count": 215,
   "metadata": {},
   "outputs": [],
   "source": [
    "cat_columns.remove('birthmonth')"
   ]
  },
  {
   "cell_type": "code",
   "execution_count": 216,
   "metadata": {},
   "outputs": [],
   "source": [
    "cc_users_data[cat_columns] = cc_users_data[cat_columns].astype(int)"
   ]
  },
  {
   "cell_type": "code",
   "execution_count": 218,
   "metadata": {},
   "outputs": [],
   "source": [
    "cat_columns.append('birthmonth')"
   ]
  },
  {
   "cell_type": "code",
   "execution_count": 221,
   "metadata": {},
   "outputs": [],
   "source": [
    "cc_users_data[cat_columns] = pd.Categorical(cc_users_data[cat_columns])"
   ]
  },
  {
   "cell_type": "code",
   "execution_count": 223,
   "metadata": {},
   "outputs": [
    {
     "name": "stdout",
     "output_type": "stream",
     "text": [
      "<class 'pandas.core.frame.DataFrame'>\n",
      "RangeIndex: 5000 entries, 0 to 4999\n",
      "Columns: 131 entries, custid to Credit_Card_Spend\n",
      "dtypes: float64(46), object(85)\n",
      "memory usage: 5.0+ MB\n"
     ]
    }
   ],
   "source": [
    "cc_users_data.info()"
   ]
  },
  {
   "cell_type": "markdown",
   "metadata": {},
   "source": [
    "### Identify High Correlated Features"
   ]
  },
  {
   "cell_type": "code",
   "execution_count": 224,
   "metadata": {},
   "outputs": [],
   "source": [
    "# Create correlation matrix\n",
    "corr_matrix = cc_users_data.drop(cat_columns,axis=1).corr().abs()\n",
    "\n",
    "# Select upper triangle of correlation matrix\n",
    "upper = corr_matrix.where(np.triu(np.ones(corr_matrix.shape), k=1).astype(np.bool))\n",
    "\n",
    "# Find index of feature columns with correlation greater than 0.95\n",
    "to_drop = [column for column in upper.columns if any(upper[column] > 0.95)]"
   ]
  },
  {
   "cell_type": "code",
   "execution_count": 225,
   "metadata": {},
   "outputs": [
    {
     "data": {
      "text/plain": [
       "['longten']"
      ]
     },
     "execution_count": 225,
     "metadata": {},
     "output_type": "execute_result"
    }
   ],
   "source": [
    "to_drop"
   ]
  },
  {
   "cell_type": "code",
   "execution_count": 226,
   "metadata": {},
   "outputs": [],
   "source": [
    "# pets, pets_cats, pets_dogs etc. are correlated\n",
    "to_drop.append('pets')"
   ]
  },
  {
   "cell_type": "markdown",
   "metadata": {},
   "source": [
    "### Splitting the dataset into train and test"
   ]
  },
  {
   "cell_type": "code",
   "execution_count": 227,
   "metadata": {},
   "outputs": [],
   "source": [
    "# use only numerical for linear regression\n",
    "num_data = cc_users_data.drop(cat_columns,axis=1)\n",
    "to_drop.append('Credit_Card_Spend')\n",
    "to_drop.append('custid')\n",
    "X = num_data.drop(to_drop, axis=1)\n",
    "Y = num_data['Credit_Card_Spend']\n",
    "X1, X2, Y1, Y2 = train_test_split(X, Y, random_state=7)"
   ]
  },
  {
   "cell_type": "code",
   "execution_count": 228,
   "metadata": {},
   "outputs": [],
   "source": [
    "# scale the data\n",
    "sc = StandardScaler().fit(X1)\n",
    "sc1 = sc.transform(X1)\n",
    "sc2 = sc.transform(X2)"
   ]
  },
  {
   "cell_type": "markdown",
   "metadata": {},
   "source": [
    "## Linear Regression & Feature Importance"
   ]
  },
  {
   "cell_type": "code",
   "execution_count": 229,
   "metadata": {},
   "outputs": [
    {
     "name": "stdout",
     "output_type": "stream",
     "text": [
      "Train: 264.30346784184877\n",
      "Test: 278.629397794202\n"
     ]
    }
   ],
   "source": [
    "lm=LinearRegression()\n",
    "lm.fit(sc1,Y1)\n",
    "print(\"Train:\",np.sqrt(mean_squared_error(lm.predict(sc1),Y1)))\n",
    "print(\"Test:\",np.sqrt(mean_squared_error(lm.predict(sc2),Y2)))"
   ]
  },
  {
   "cell_type": "code",
   "execution_count": 230,
   "metadata": {},
   "outputs": [
    {
     "data": {
      "text/plain": [
       "<matplotlib.axes._subplots.AxesSubplot at 0x1a34755fd0>"
      ]
     },
     "execution_count": 230,
     "metadata": {},
     "output_type": "execute_result"
    },
    {
     "data": {
      "image/png": "[encoded data removed]",
      "text/plain": [
       "<matplotlib.figure.Figure at 0x1a34750b38>"
      ]
     },
     "metadata": {},
     "output_type": "display_data"
    }
   ],
   "source": [
    "Series(lm.coef_, X.columns).sort_values(ascending=False).plot(kind='bar', figsize=(50,50), title='Feature Importances')"
   ]
  },
  {
   "cell_type": "code",
   "execution_count": 231,
   "metadata": {},
   "outputs": [
    {
     "data": {
      "text/plain": [
       "card2items       125.335297\n",
       "carditems        118.311045\n",
       "lninc             57.284404\n",
       "othdebt           41.485555\n",
       "equipten          38.717831\n",
       "income            25.530065\n",
       "creddebt          24.660528\n",
       "lncreddebt        12.990523\n",
       "wiremon            8.760134\n",
       "cardten            8.672381\n",
       "lnlongten          8.215036\n",
       "lncardten          8.032036\n",
       "lntollmon          7.198955\n",
       "pets_reptiles      6.095774\n",
       "pets_small         5.844506\n",
       "tollten            5.500149\n",
       "pets_dogs          5.336122\n",
       "lnequipmon         4.508552\n",
       "pets_cats          3.818254\n",
       "lnwireten          3.679116\n",
       "dtype: float64"
      ]
     },
     "execution_count": 231,
     "metadata": {},
     "output_type": "execute_result"
    }
   ],
   "source": [
    "Series(lm.coef_, X.columns).sort_values(ascending=False)[:20]"
   ]
  },
  {
   "cell_type": "code",
   "execution_count": 232,
   "metadata": {},
   "outputs": [
    {
     "data": {
      "text/plain": [
       "<matplotlib.axes._subplots.AxesSubplot at 0x1a3461ff98>"
      ]
     },
     "execution_count": 232,
     "metadata": {},
     "output_type": "execute_result"
    },
    {
     "data": {
      "image/png": "[encoded data removed]",
      "text/plain": [
       "<matplotlib.figure.Figure at 0x1a34750978>"
      ]
     },
     "metadata": {},
     "output_type": "display_data"
    }
   ],
   "source": [
    "Series(lm.coef_, X.columns).sort_values(ascending=False)[:20].plot(kind='bar', title='Feature Importances')"
   ]
  },
  {
   "cell_type": "code",
   "execution_count": 233,
   "metadata": {},
   "outputs": [
    {
     "data": {
      "text/plain": [
       "debtinc          -32.320151\n",
       "equipmon         -26.744246\n",
       "lntollten        -14.215487\n",
       "tenure           -13.884783\n",
       "lnequipten       -13.676367\n",
       "lncardmon         -6.915380\n",
       "cardmon           -6.509392\n",
       "tollmon           -6.349118\n",
       "hourstv           -5.806736\n",
       "lnlongmon         -5.728449\n",
       "wireten           -5.566951\n",
       "lnwiremon         -5.098003\n",
       "pets_saltfish     -4.379601\n",
       "age               -3.955116\n",
       "carvalue          -2.454655\n",
       "ed                -2.443806\n",
       "commutetime       -1.247748\n",
       "pets_birds        -1.109154\n",
       "reside             0.288674\n",
       "pets_freshfish     1.104209\n",
       "dtype: float64"
      ]
     },
     "execution_count": 233,
     "metadata": {},
     "output_type": "execute_result"
    }
   ],
   "source": [
    "Series(lm.coef_, X.columns).sort_values(ascending=True)[:20]"
   ]
  },
  {
   "cell_type": "code",
   "execution_count": 235,
   "metadata": {},
   "outputs": [
    {
     "data": {
      "text/plain": [
       "<matplotlib.axes._subplots.AxesSubplot at 0x1a348425c0>"
      ]
     },
     "execution_count": 235,
     "metadata": {},
     "output_type": "execute_result"
    },
    {
     "data": {
      "image/png": "[encoded data removed]",
      "text/plain": [
       "<matplotlib.figure.Figure at 0x1a1eb39588>"
      ]
     },
     "metadata": {},
     "output_type": "display_data"
    }
   ],
   "source": [
    "Series(lm.coef_, X.columns).sort_values(ascending=True)[:20].plot(kind='bar', title='Feature Importances')"
   ]
  },
  {
   "cell_type": "markdown",
   "metadata": {},
   "source": [
    "### Predictions"
   ]
  },
  {
   "cell_type": "code",
   "execution_count": 236,
   "metadata": {},
   "outputs": [
    {
     "data": {
      "text/plain": [
       "<matplotlib.axes._subplots.AxesSubplot at 0x1a348a3c88>"
      ]
     },
     "execution_count": 236,
     "metadata": {},
     "output_type": "execute_result"
    },
    {
     "data": {
      "image/png": "[encoded data removed]",
      "text/plain": [
       "<matplotlib.figure.Figure at 0x1a346dc080>"
      ]
     },
     "metadata": {},
     "output_type": "display_data"
    }
   ],
   "source": [
    "Series(lm.predict(X1)-Y1).plot.hist(bins=20)"
   ]
  },
  {
   "cell_type": "code",
   "execution_count": 237,
   "metadata": {},
   "outputs": [
    {
     "data": {
      "text/plain": [
       "<matplotlib.axes._subplots.AxesSubplot at 0x1a36c76ef0>"
      ]
     },
     "execution_count": 237,
     "metadata": {},
     "output_type": "execute_result"
    },
    {
     "data": {
      "image/png": "[encoded data removed]",
      "text/plain": [
       "<matplotlib.figure.Figure at 0x1a36b794e0>"
      ]
     },
     "metadata": {},
     "output_type": "display_data"
    }
   ],
   "source": [
    "Series(lm.predict(X2)-Y2).plot.hist(bins=20)"
   ]
  },
  {
   "cell_type": "markdown",
   "metadata": {},
   "source": [
    "## Random Forest & Feature Importance"
   ]
  },
  {
   "cell_type": "code",
   "execution_count": 239,
   "metadata": {},
   "outputs": [],
   "source": [
    "# train-test split\n",
    "# try all features for random forest\n",
    "X = cc_users_data.drop(['Credit_Card_Spend','custid'], axis=1)\n",
    "Y = cc_users_data['Credit_Card_Spend']\n",
    "X1, X2, Y1, Y2 = train_test_split(X, Y, random_state=7)"
   ]
  },
  {
   "cell_type": "code",
   "execution_count": 244,
   "metadata": {},
   "outputs": [
    {
     "name": "stderr",
     "output_type": "stream",
     "text": [
      "/Users/kanuamit/anaconda3/lib/python3.6/site-packages/ipykernel_launcher.py:11: SettingWithCopyWarning: \n",
      "A value is trying to be set on a copy of a slice from a DataFrame.\n",
      "Try using .loc[row_indexer,col_indexer] = value instead\n",
      "\n",
      "See the caveats in the documentation: http://pandas.pydata.org/pandas-docs/stable/indexing.html#indexing-view-versus-copy\n",
      "  # This is added back by InteractiveShellApp.init_path()\n",
      "/Users/kanuamit/anaconda3/lib/python3.6/site-packages/ipykernel_launcher.py:12: SettingWithCopyWarning: \n",
      "A value is trying to be set on a copy of a slice from a DataFrame.\n",
      "Try using .loc[row_indexer,col_indexer] = value instead\n",
      "\n",
      "See the caveats in the documentation: http://pandas.pydata.org/pandas-docs/stable/indexing.html#indexing-view-versus-copy\n",
      "  if sys.path[0] == '':\n"
     ]
    }
   ],
   "source": [
    "# Importing LabelEncoder and initializing it\n",
    "from sklearn.preprocessing import LabelEncoder\n",
    "le=LabelEncoder()\n",
    "# Iterating over all the common columns in train and test\n",
    "for col in X2.columns.values:\n",
    "    # Encoding only categorical variables\n",
    "    if X2[col].dtypes=='object':\n",
    "        # Using whole data to form an exhaustive list of levels\n",
    "        data=X1[col].append(X2[col])\n",
    "        le.fit(data.values)\n",
    "        X1[col]=le.transform(X1[col])\n",
    "        X2[col]=le.transform(X2[col])"
   ]
  },
  {
   "cell_type": "code",
   "execution_count": 245,
   "metadata": {},
   "outputs": [
    {
     "name": "stdout",
     "output_type": "stream",
     "text": [
      "Train: 309.3848661089335\n",
      "Test: 312.4864798613381\n"
     ]
    }
   ],
   "source": [
    "from sklearn.ensemble import RandomForestRegressor\n",
    "rf = RandomForestRegressor(n_estimators=200, max_features='auto', \n",
    "                           min_samples_split=1200, max_depth=10, min_samples_leaf=75)\n",
    "rf.fit(X1,Y1)\n",
    "print(\"Train:\",np.sqrt(mean_squared_error(rf.predict(X1),Y1)))\n",
    "print(\"Test:\",np.sqrt(mean_squared_error(rf.predict(X2),Y2)))"
   ]
  },
  {
   "cell_type": "code",
   "execution_count": 248,
   "metadata": {},
   "outputs": [
    {
     "data": {
      "text/plain": [
       "<matplotlib.axes._subplots.AxesSubplot at 0x1a25ef2f28>"
      ]
     },
     "execution_count": 248,
     "metadata": {},
     "output_type": "execute_result"
    },
    {
     "data": {
      "image/png": "[encoded data removed]",
      "text/plain": [
       "<matplotlib.figure.Figure at 0x1a25c54198>"
      ]
     },
     "metadata": {},
     "output_type": "display_data"
    }
   ],
   "source": [
    "indices = np.argsort(rf.feature_importances_)[::-1]\n",
    "feature_rank = pd.DataFrame( columns = ['rank', 'feature', 'importance'] )\n",
    "for f in range(X1.shape[1]):\n",
    "    feature_rank.loc[f] = [f+1,\n",
    "                         X1.columns[indices[f]],\n",
    "                         rf.feature_importances_[indices[f]]]\n",
    "sns.barplot( y = 'feature', x = 'importance', data = feature_rank[:10] )"
   ]
  },
  {
   "cell_type": "code",
   "execution_count": 249,
   "metadata": {},
   "outputs": [
    {
     "data": {
      "text/html": [
       "<div>\n",
       "<style scoped>\n",
       "    .dataframe tbody tr th:only-of-type {\n",
       "        vertical-align: middle;\n",
       "    }\n",
       "\n",
       "    .dataframe tbody tr th {\n",
       "        vertical-align: top;\n",
       "    }\n",
       "\n",
       "    .dataframe thead th {\n",
       "        text-align: right;\n",
       "    }\n",
       "</style>\n",
       "<table border=\"1\" class=\"dataframe\">\n",
       "  <thead>\n",
       "    <tr style=\"text-align: right;\">\n",
       "      <th></th>\n",
       "      <th>actual</th>\n",
       "      <th>predicted</th>\n",
       "    </tr>\n",
       "  </thead>\n",
       "  <tbody>\n",
       "    <tr>\n",
       "      <th>3406</th>\n",
       "      <td>633.67</td>\n",
       "      <td>536.919232</td>\n",
       "    </tr>\n",
       "    <tr>\n",
       "      <th>757</th>\n",
       "      <td>779.83</td>\n",
       "      <td>490.094467</td>\n",
       "    </tr>\n",
       "    <tr>\n",
       "      <th>3624</th>\n",
       "      <td>130.80</td>\n",
       "      <td>316.958750</td>\n",
       "    </tr>\n",
       "    <tr>\n",
       "      <th>4544</th>\n",
       "      <td>436.89</td>\n",
       "      <td>699.169718</td>\n",
       "    </tr>\n",
       "    <tr>\n",
       "      <th>3235</th>\n",
       "      <td>265.92</td>\n",
       "      <td>498.495189</td>\n",
       "    </tr>\n",
       "  </tbody>\n",
       "</table>\n",
       "</div>"
      ],
      "text/plain": [
       "      actual   predicted\n",
       "3406  633.67  536.919232\n",
       "757   779.83  490.094467\n",
       "3624  130.80  316.958750\n",
       "4544  436.89  699.169718\n",
       "3235  265.92  498.495189"
      ]
     },
     "execution_count": 249,
     "metadata": {},
     "output_type": "execute_result"
    }
   ],
   "source": [
    "# prediction\n",
    "rf_test_pred = pd.DataFrame( { 'actual':  Y2,\n",
    "                            'predicted': rf.predict(X2) } )\n",
    "rf_test_pred.head()"
   ]
  },
  {
   "cell_type": "markdown",
   "metadata": {},
   "source": [
    "## Conclusion:"
   ]
  },
  {
   "attachments": {},
   "cell_type": "markdown",
   "metadata": {},
   "source": [
    "Basis the feature importance derived from both regression as well as random forest, following are the top factors driving the total card spends (Primary Card + Secondary Card):\n",
    "    1. card2items - Number of items on secondary card last month\n",
    "    2. carditems - Number of items on primary card last month\n",
    "    3. lninc - Log-income i.e. consider 'income' as the important factor\n",
    "    4. othdebt - Other debt in thousands\n",
    "    5. equipten - Equipment over tenure"
   ]
  }
 ],
 "metadata": {
  "kernelspec": {
   "display_name": "Python 3",
   "language": "python",
   "name": "python3"
  },
  "language_info": {
   "codemirror_mode": {
    "name": "ipython",
    "version": 3
   },
   "file_extension": ".py",
   "mimetype": "text/x-python",
   "name": "python",
   "nbconvert_exporter": "python",
   "pygments_lexer": "ipython3",
   "version": "3.6.4"
  }
 },
 "nbformat": 4,
 "nbformat_minor": 2
}
